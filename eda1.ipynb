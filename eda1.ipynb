{
 "cells": [
  {
   "cell_type": "markdown",
   "metadata": {},
   "source": [
    "# Análise exploratória dos dados (Exploratory Data Analysis - EDA) - Má conduta sexual no ambiente acadêmico\n",
    "\n",
    "A presente análise investiga o conjunto de dados públicos disponiblizado através do trabalho de coleta da rede `The Academic Sexual Misconduct Database` . A base de dados inclui casos públicos sobre má conduta sexual no ambiente universitário. \n",
    "\n",
    "Link dos dados exibidos: https://academic-sexual-misconduct-database.org/"
   ]
  },
  {
   "cell_type": "markdown",
   "metadata": {},
   "source": [
    "# 1- Importando as bibliotecas"
   ]
  },
  {
   "cell_type": "code",
   "execution_count": 2,
   "metadata": {},
   "outputs": [],
   "source": [
    "#Importando as bibliotecas:\n",
    "\n",
    "import pandas as pd\n",
    "\n",
    "import matplotlib.pyplot as plt"
   ]
  },
  {
   "cell_type": "markdown",
   "metadata": {},
   "source": [
    "# 2- Carregando os dados\n"
   ]
  },
  {
   "cell_type": "code",
   "execution_count": 1,
   "metadata": {},
   "outputs": [
    {
     "name": "stderr",
     "output_type": "stream",
     "text": [
      "\n",
      "KeyboardInterrupt\n",
      "\n"
     ]
    }
   ],
   "source": [
    "#Visão completa do nosso dataset\n",
    "df_tabelaviolencia= pd.read_csv('violenciauniversidade.csv', sep=';', encoding='latin-1')\n",
    "df_tabelaviolencia"
   ]
  },
  {
   "cell_type": "markdown",
   "metadata": {},
   "source": [
    "# 3 - Inspeção básica dos dados"
   ]
  },
  {
   "cell_type": "code",
   "execution_count": 12,
   "metadata": {},
   "outputs": [
    {
     "data": {
      "text/plain": [
       "(43, 13)"
      ]
     },
     "execution_count": 12,
     "metadata": {},
     "output_type": "execute_result"
    }
   ],
   "source": [
    "#Filtrando informações específicas. No caso, quero saber quando vezes a universidade Berklee College of Music é citada no dataframe.\n",
    "df_filtro = df_tabelaviolencia[(df_tabelaviolencia['Institution'] == 'Michigan State University')]\n",
    "df_filtro.shape"
   ]
  },
  {
   "cell_type": "code",
   "execution_count": 14,
   "metadata": {},
   "outputs": [
    {
     "data": {
      "text/plain": [
       "<bound method DataFrame.info of      Incident Number    Status     Updated             Person  \\\n",
       "0      Incident 7204  Resolved  2022-03-03       Edward Jones   \n",
       "1      Incident 7205  Resolved  2019-06-07        Leon Howard   \n",
       "2      Incident 7206  Resolved  2019-06-07  LaVonette Bartley   \n",
       "3      Incident 7207  Resolved  2019-06-07        John Knight   \n",
       "4      Incident 7208  Resolved  2019-06-07   Philip Jemilohun   \n",
       "...              ...       ...         ...                ...   \n",
       "1254   Incident 9007  Resolved  2023-10-23       Howard Irvin   \n",
       "1255   Incident 9008   Ongoing  2023-10-25                NaN   \n",
       "1256   Incident 9009   Ongoing  2023-11-13                NaN   \n",
       "1257   Incident 9010  Resolved  2023-11-15       NAME UNKNOWN   \n",
       "1258   Incident 9012  Resolved  2023-11-15   Ivonne del Valle   \n",
       "\n",
       "                           Institution           Role  \\\n",
       "0               Alabama A&M University        Faculty   \n",
       "1             Alabama State University  Administrator   \n",
       "2             Alabama State University  Administrator   \n",
       "3             Alabama State University  Administrator   \n",
       "4              Albany State University        Faculty   \n",
       "...                                ...            ...   \n",
       "1254     Los Angeles Southwest College  Administrator   \n",
       "1255             Georgetown University            NaN   \n",
       "1256                   McMurdo Station            NaN   \n",
       "1257                Arcadia University        Faculty   \n",
       "1258  University of California  Davis        Faculty   \n",
       "\n",
       "                                               Position  \\\n",
       "0     Director of Office of Teacher Education and Ce...   \n",
       "1                                             President   \n",
       "2     Associate Executive Director in the office of ...   \n",
       "3     Interim President, Special Assistant to the Pr...   \n",
       "4                                   Associate Professor   \n",
       "...                                                 ...   \n",
       "1254                  Vice President of Student Affairs   \n",
       "1255                                                NaN   \n",
       "1256                                                NaN   \n",
       "1257                                                NaN   \n",
       "1258                                Associate Professor   \n",
       "\n",
       "                                         Discipline     Specific Discipline  \\\n",
       "0                      Education, Teacher Education       Teacher Education   \n",
       "1                                               NaN                     NaN   \n",
       "2                                               NaN                     NaN   \n",
       "3                                               NaN                     NaN   \n",
       "4     Physical Sciences and Mathematics, Bioscience              Bioscience   \n",
       "...                                             ...                     ...   \n",
       "1254                                            NaN                     NaN   \n",
       "1255                                            NaN                     NaN   \n",
       "1256                                            NaN                     NaN   \n",
       "1257                                            NaN                     NaN   \n",
       "1258                            Arts and Humanities  Spanish and Portuguese   \n",
       "\n",
       "                                                Outcome  \\\n",
       "0     No Longer Employed (includes Fired and Contrac...   \n",
       "1     Criminal Plea / Conviction;Jury / Judge Findin...   \n",
       "2             Jury / Judge Finding - Civil Case;Retired   \n",
       "3                     Jury / Judge Finding - Civil Case   \n",
       "4                                              Resigned   \n",
       "...                                                 ...   \n",
       "1254                  Jury / Judge Finding - Civil Case   \n",
       "1255                                                NaN   \n",
       "1256                                                NaN   \n",
       "1257                                           Resigned   \n",
       "1258                   Suspended / Leave / Restrictions   \n",
       "\n",
       "                                       Specific Outcome  Outcome Year  \\\n",
       "0     Fired: videos of Jones were discovered on a sc...        2016.0   \n",
       "1     Grand jury indictment on charges of attempted ...        1993.0   \n",
       "2     Retired. jury award of over $1 million. (see J...        2010.0   \n",
       "3     Jury award of over $1 million. (see LaVonette ...        2010.0   \n",
       "4     Arrested/had prior convictions, outcome unknow...        2009.0   \n",
       "...                                                 ...           ...   \n",
       "1254  \"The jury returned after one day of deliberati...        2022.0   \n",
       "1255                                                NaN           NaN   \n",
       "1256                                                NaN           NaN   \n",
       "1257  \"the university did not complete its investiga...        2021.0   \n",
       "1258  \"UC-Berkeleys Office for the Prevention of Ha...        2023.0   \n",
       "\n",
       "                                       Original Link(s)  \n",
       "0     http://www.al.com/news/huntsville/index.ssf/20...  \n",
       "1     http://chronicle.com/article/Jury-Determines-E...  \n",
       "2     https://web.archive.org/web/20120218172146/htt...  \n",
       "3     https://web.archive.org/web/20120218172146/htt...  \n",
       "4     http://wfxl.com/news/local/albany-state-univer...  \n",
       "...                                                 ...  \n",
       "1254  https://www.starbeacon.com/region/six-years-a-...  \n",
       "1255  https://thehoya.com/georgetown-university-and-...  \n",
       "1256  https://apnews.com/article/antarctica-assault-...  \n",
       "1257  https://content.govdelivery.com/accounts/USED/...  \n",
       "1258  https://www.chronicle.com/article/the-harassme...  \n",
       "\n",
       "[1259 rows x 13 columns]>"
      ]
     },
     "execution_count": 14,
     "metadata": {},
     "output_type": "execute_result"
    }
   ],
   "source": [
    "#Verificando algumas informações sobre o dataframe:\n",
    "df_tabelaviolencia.info"
   ]
  },
  {
   "cell_type": "code",
   "execution_count": 4,
   "metadata": {},
   "outputs": [
    {
     "data": {
      "text/plain": [
       "Incident Number         object\n",
       "Status                  object\n",
       "Updated                 object\n",
       "Person                  object\n",
       "Institution             object\n",
       "Role                    object\n",
       "Position                object\n",
       "Discipline              object\n",
       "Specific Discipline     object\n",
       "Outcome                 object\n",
       "Specific Outcome        object\n",
       "Outcome Year           float64\n",
       "Original Link(s)        object\n",
       "dtype: object"
      ]
     },
     "execution_count": 4,
     "metadata": {},
     "output_type": "execute_result"
    }
   ],
   "source": [
    "#Verificando os tipos de dados \n",
    "df_tabelaviolencia.dtypes"
   ]
  },
  {
   "cell_type": "markdown",
   "metadata": {},
   "source": [
    "# 4 - Limpeza dos dados"
   ]
  },
  {
   "cell_type": "code",
   "execution_count": 16,
   "metadata": {},
   "outputs": [
    {
     "data": {
      "text/plain": [
       "0       False\n",
       "1       False\n",
       "2       False\n",
       "3       False\n",
       "4       False\n",
       "        ...  \n",
       "1254    False\n",
       "1255    False\n",
       "1256    False\n",
       "1257    False\n",
       "1258    False\n",
       "Length: 1259, dtype: bool"
      ]
     },
     "execution_count": 16,
     "metadata": {},
     "output_type": "execute_result"
    }
   ],
   "source": [
    "# Será que o dataframe possui dados duplicados? Vejamos:\n",
    "df_tabelaviolencia.duplicated()\n",
    "\n",
    "#O dataframe não apresentou nenhum valor duplicado"
   ]
  },
  {
   "cell_type": "code",
   "execution_count": 6,
   "metadata": {},
   "outputs": [
    {
     "data": {
      "text/html": [
       "<div>\n",
       "<style scoped>\n",
       "    .dataframe tbody tr th:only-of-type {\n",
       "        vertical-align: middle;\n",
       "    }\n",
       "\n",
       "    .dataframe tbody tr th {\n",
       "        vertical-align: top;\n",
       "    }\n",
       "\n",
       "    .dataframe thead th {\n",
       "        text-align: right;\n",
       "    }\n",
       "</style>\n",
       "<table border=\"1\" class=\"dataframe\">\n",
       "  <thead>\n",
       "    <tr style=\"text-align: right;\">\n",
       "      <th></th>\n",
       "      <th>Outcome Year</th>\n",
       "    </tr>\n",
       "  </thead>\n",
       "  <tbody>\n",
       "    <tr>\n",
       "      <th>count</th>\n",
       "      <td>1170.000000</td>\n",
       "    </tr>\n",
       "    <tr>\n",
       "      <th>mean</th>\n",
       "      <td>2011.532479</td>\n",
       "    </tr>\n",
       "    <tr>\n",
       "      <th>std</th>\n",
       "      <td>10.121049</td>\n",
       "    </tr>\n",
       "    <tr>\n",
       "      <th>min</th>\n",
       "      <td>1917.000000</td>\n",
       "    </tr>\n",
       "    <tr>\n",
       "      <th>25%</th>\n",
       "      <td>2008.000000</td>\n",
       "    </tr>\n",
       "    <tr>\n",
       "      <th>50%</th>\n",
       "      <td>2016.000000</td>\n",
       "    </tr>\n",
       "    <tr>\n",
       "      <th>75%</th>\n",
       "      <td>2018.000000</td>\n",
       "    </tr>\n",
       "    <tr>\n",
       "      <th>max</th>\n",
       "      <td>2023.000000</td>\n",
       "    </tr>\n",
       "  </tbody>\n",
       "</table>\n",
       "</div>"
      ],
      "text/plain": [
       "       Outcome Year\n",
       "count   1170.000000\n",
       "mean    2011.532479\n",
       "std       10.121049\n",
       "min     1917.000000\n",
       "25%     2008.000000\n",
       "50%     2016.000000\n",
       "75%     2018.000000\n",
       "max     2023.000000"
      ]
     },
     "execution_count": 6,
     "metadata": {},
     "output_type": "execute_result"
    }
   ],
   "source": [
    "#Verificando o resumo estatístico dos dados:\n",
    "df_tabelaviolencia.describe()"
   ]
  },
  {
   "cell_type": "code",
   "execution_count": 7,
   "metadata": {},
   "outputs": [
    {
     "name": "stdout",
     "output_type": "stream",
     "text": [
      "Valores nulos por coluna do dataframe:\n",
      "Incident Number          0\n",
      "Status                   0\n",
      "Updated                  0\n",
      "Person                 174\n",
      "Institution              2\n",
      "Role                   165\n",
      "Position               230\n",
      "Discipline             252\n",
      "Specific Discipline    411\n",
      "Outcome                166\n",
      "Specific Outcome       112\n",
      "Outcome Year            89\n",
      "Original Link(s)        24\n",
      "dtype: int64\n"
     ]
    }
   ],
   "source": [
    "#Verificando valores nulos no dataset:\n",
    "print(\"Valores nulos por coluna do dataframe:\")\n",
    "print(df_tabelaviolencia.isnull().sum())"
   ]
  },
  {
   "cell_type": "markdown",
   "metadata": {},
   "source": [
    "# 5 - Explorando análises de dados específicos "
   ]
  },
  {
   "cell_type": "code",
   "execution_count": 18,
   "metadata": {},
   "outputs": [
    {
     "data": {
      "text/plain": [
       "(851, 13)"
      ]
     },
     "execution_count": 18,
     "metadata": {},
     "output_type": "execute_result"
    }
   ],
   "source": [
    "#Filtrando informações, nesse caso verifico quantas vezes o ano de 2022 foi mencionado:\n",
    "df_filtroano= df_tabelaviolencia[df_tabelaviolencia['Updated'].str.contains('2019')]\n",
    "df_filtroano.shape"
   ]
  },
  {
   "cell_type": "code",
   "execution_count": 19,
   "metadata": {},
   "outputs": [
    {
     "data": {
      "text/plain": [
       "(135, 13)"
      ]
     },
     "execution_count": 19,
     "metadata": {},
     "output_type": "execute_result"
    }
   ],
   "source": [
    "df_filtroano= df_tabelaviolencia[df_tabelaviolencia['Updated'].str.contains('2020')]\n",
    "df_filtroano.shape"
   ]
  },
  {
   "cell_type": "code",
   "execution_count": 20,
   "metadata": {},
   "outputs": [
    {
     "data": {
      "text/plain": [
       "(136, 13)"
      ]
     },
     "execution_count": 20,
     "metadata": {},
     "output_type": "execute_result"
    }
   ],
   "source": [
    "df_filtroano= df_tabelaviolencia[df_tabelaviolencia['Updated'].str.contains('2021')]\n",
    "df_filtroano.shape"
   ]
  },
  {
   "cell_type": "code",
   "execution_count": null,
   "metadata": {},
   "outputs": [],
   "source": [
    "df_filtroano= df_tabelaviolencia[df_tabelaviolencia['Updated'].str.contains('2021')]\n",
    "df_filtroano.shape"
   ]
  },
  {
   "cell_type": "code",
   "execution_count": 21,
   "metadata": {},
   "outputs": [
    {
     "data": {
      "text/plain": [
       "Updated\n",
       "2019-06-02    248\n",
       "2019-05-31    151\n",
       "2019-06-07    140\n",
       "2019-05-28    106\n",
       "2020-12-06     52\n",
       "             ... \n",
       "2020-01-28      1\n",
       "2020-01-24      1\n",
       "2020-11-23      1\n",
       "2020-01-18      1\n",
       "2022-12-01      1\n",
       "Name: count, Length: 208, dtype: int64"
      ]
     },
     "execution_count": 21,
     "metadata": {},
     "output_type": "execute_result"
    }
   ],
   "source": [
    "#Criando uma função para verificar a data que teve mais menções:\n",
    "ano = df_tabelaviolencia['Updated'].value_counts()\n",
    "ano"
   ]
  },
  {
   "cell_type": "code",
   "execution_count": 25,
   "metadata": {},
   "outputs": [
    {
     "data": {
      "text/plain": [
       "Institution\n",
       "Michigan State University              43\n",
       "University of Georgia                  20\n",
       "University of California  Berkeley    20\n",
       "University of Texas  Austin           18\n",
       "Yale University                        18\n",
       "                                       ..\n",
       "Rio Salado College                      1\n",
       "Reinhardt University                    1\n",
       "Regis University                        1\n",
       "Reed College                            1\n",
       "Arcadia University                      1\n",
       "Name: count, Length: 555, dtype: int64"
      ]
     },
     "execution_count": 25,
     "metadata": {},
     "output_type": "execute_result"
    }
   ],
   "source": [
    "instituicao = df_tabelaviolencia['Institution'].value_counts()\n",
    "instituicao"
   ]
  },
  {
   "cell_type": "code",
   "execution_count": 36,
   "metadata": {},
   "outputs": [
    {
     "data": {
      "text/plain": [
       "(119, 13)"
      ]
     },
     "execution_count": 36,
     "metadata": {},
     "output_type": "execute_result"
    }
   ],
   "source": [
    "df_rank_inst = df_tabelaviolencia[df_tabelaviolencia['Institution'].isin(['Michigan State University','University of Georgia','University of California  Berkeley','University of Texas  Austin','Yale University'])]\n",
    "df_rank_inst.shape"
   ]
  },
  {
   "cell_type": "markdown",
   "metadata": {},
   "source": [
    "# 6 - Integração com a biblioteca de visualização"
   ]
  },
  {
   "cell_type": "code",
   "execution_count": 23,
   "metadata": {},
   "outputs": [
    {
     "data": {
      "text/plain": [
       "<Axes: xlabel='Status'>"
      ]
     },
     "execution_count": 23,
     "metadata": {},
     "output_type": "execute_result"
    },
    {
     "data": {
      "image/png": "[encoded data removed]",
      "text/plain": [
       "<Figure size 640x480 with 1 Axes>"
      ]
     },
     "metadata": {},
     "output_type": "display_data"
    }
   ],
   "source": [
    "#Para a 1° visualização vamos ter o status dos casos:\n",
    "casos_status = df_tabelaviolencia['Status'].value_counts()\n",
    "casos_status.plot(kind='bar')\n",
    "#Podemos observar que a maioria dos casos foram resolvidos, a taxa de casos em andamento é muito baixa."
   ]
  },
  {
   "cell_type": "code",
   "execution_count": 37,
   "metadata": {},
   "outputs": [
    {
     "name": "stderr",
     "output_type": "stream",
     "text": [
      "C:\\Users\\tayna\\AppData\\Local\\Packages\\PythonSoftwareFoundation.Python.3.11_qbz5n2kfra8p0\\LocalCache\\local-packages\\Python311\\site-packages\\IPython\\core\\pylabtools.py:152: UserWarning: Glyph 150 (\\x96) missing from current font.\n",
      "  fig.canvas.print_figure(bytes_io, **kw)\n"
     ]
    },
    {
     "data": {
      "image/png": "[encoded data removed]",
      "text/plain": [
       "<Figure size 640x480 with 1 Axes>"
      ]
     },
     "metadata": {},
     "output_type": "display_data"
    }
   ],
   "source": [
    "#2° visualização: Instituição que mais apresentou casos \n",
    "instituicao = df_rank_inst ['Institution'].value_counts()\n",
    "instituicao.plot(kind='bar')\n",
    "\n",
    "plt.show()"
   ]
  },
  {
   "cell_type": "code",
   "execution_count": 41,
   "metadata": {},
   "outputs": [],
   "source": [
    "#3° visualização\n",
    "\n",
    "df_tabelaviolencia['Updated'] = pd.to_datetime(df_tabelaviolencia['Updated'])"
   ]
  },
  {
   "cell_type": "code",
   "execution_count": 45,
   "metadata": {},
   "outputs": [
    {
     "data": {
      "text/html": [
       "<div>\n",
       "<style scoped>\n",
       "    .dataframe tbody tr th:only-of-type {\n",
       "        vertical-align: middle;\n",
       "    }\n",
       "\n",
       "    .dataframe tbody tr th {\n",
       "        vertical-align: top;\n",
       "    }\n",
       "\n",
       "    .dataframe thead th {\n",
       "        text-align: right;\n",
       "    }\n",
       "</style>\n",
       "<table border=\"1\" class=\"dataframe\">\n",
       "  <thead>\n",
       "    <tr style=\"text-align: right;\">\n",
       "      <th></th>\n",
       "      <th>Incident Number</th>\n",
       "      <th>Status</th>\n",
       "      <th>Updated</th>\n",
       "      <th>Person</th>\n",
       "      <th>Institution</th>\n",
       "      <th>Role</th>\n",
       "      <th>Position</th>\n",
       "      <th>Discipline</th>\n",
       "      <th>Specific Discipline</th>\n",
       "      <th>Outcome</th>\n",
       "      <th>Specific Outcome</th>\n",
       "      <th>Outcome Year</th>\n",
       "      <th>Original Link(s)</th>\n",
       "    </tr>\n",
       "  </thead>\n",
       "  <tbody>\n",
       "    <tr>\n",
       "      <th>1</th>\n",
       "      <td>Incident 7205</td>\n",
       "      <td>Resolved</td>\n",
       "      <td>2019-06-07</td>\n",
       "      <td>Leon Howard</td>\n",
       "      <td>Alabama State University</td>\n",
       "      <td>Administrator</td>\n",
       "      <td>President</td>\n",
       "      <td>NaN</td>\n",
       "      <td>NaN</td>\n",
       "      <td>Criminal Plea / Conviction;Jury / Judge Findin...</td>\n",
       "      <td>Grand jury indictment on charges of attempted ...</td>\n",
       "      <td>1993.0</td>\n",
       "      <td>http://chronicle.com/article/Jury-Determines-E...</td>\n",
       "    </tr>\n",
       "    <tr>\n",
       "      <th>2</th>\n",
       "      <td>Incident 7206</td>\n",
       "      <td>Resolved</td>\n",
       "      <td>2019-06-07</td>\n",
       "      <td>LaVonette Bartley</td>\n",
       "      <td>Alabama State University</td>\n",
       "      <td>Administrator</td>\n",
       "      <td>Associate Executive Director in the office of ...</td>\n",
       "      <td>NaN</td>\n",
       "      <td>NaN</td>\n",
       "      <td>Jury / Judge Finding - Civil Case;Retired</td>\n",
       "      <td>Retired. jury award of over $1 million. (see J...</td>\n",
       "      <td>2010.0</td>\n",
       "      <td>https://web.archive.org/web/20120218172146/htt...</td>\n",
       "    </tr>\n",
       "    <tr>\n",
       "      <th>3</th>\n",
       "      <td>Incident 7207</td>\n",
       "      <td>Resolved</td>\n",
       "      <td>2019-06-07</td>\n",
       "      <td>John Knight</td>\n",
       "      <td>Alabama State University</td>\n",
       "      <td>Administrator</td>\n",
       "      <td>Interim President, Special Assistant to the Pr...</td>\n",
       "      <td>NaN</td>\n",
       "      <td>NaN</td>\n",
       "      <td>Jury / Judge Finding - Civil Case</td>\n",
       "      <td>Jury award of over $1 million. (see LaVonette ...</td>\n",
       "      <td>2010.0</td>\n",
       "      <td>https://web.archive.org/web/20120218172146/htt...</td>\n",
       "    </tr>\n",
       "    <tr>\n",
       "      <th>4</th>\n",
       "      <td>Incident 7208</td>\n",
       "      <td>Resolved</td>\n",
       "      <td>2019-06-07</td>\n",
       "      <td>Philip Jemilohun</td>\n",
       "      <td>Albany State University</td>\n",
       "      <td>Faculty</td>\n",
       "      <td>Associate Professor</td>\n",
       "      <td>Physical Sciences and Mathematics, Bioscience</td>\n",
       "      <td>Bioscience</td>\n",
       "      <td>Resigned</td>\n",
       "      <td>Arrested/had prior convictions, outcome unknow...</td>\n",
       "      <td>2009.0</td>\n",
       "      <td>http://wfxl.com/news/local/albany-state-univer...</td>\n",
       "    </tr>\n",
       "    <tr>\n",
       "      <th>5</th>\n",
       "      <td>Incident 7209</td>\n",
       "      <td>Resolved</td>\n",
       "      <td>2019-06-07</td>\n",
       "      <td>Brian Richmond</td>\n",
       "      <td>American Museum of Natural History</td>\n",
       "      <td>Faculty</td>\n",
       "      <td>Curator</td>\n",
       "      <td>Social and Behavioral Sciences, Anthropology, ...</td>\n",
       "      <td>Anthropology Paleoanthropology</td>\n",
       "      <td>Official Warning / Reprimand;Resigned</td>\n",
       "      <td>Found to have violated policy related to super...</td>\n",
       "      <td>2016.0</td>\n",
       "      <td>http://www.sciencemag.org/news/2016/02/sexual-...</td>\n",
       "    </tr>\n",
       "    <tr>\n",
       "      <th>...</th>\n",
       "      <td>...</td>\n",
       "      <td>...</td>\n",
       "      <td>...</td>\n",
       "      <td>...</td>\n",
       "      <td>...</td>\n",
       "      <td>...</td>\n",
       "      <td>...</td>\n",
       "      <td>...</td>\n",
       "      <td>...</td>\n",
       "      <td>...</td>\n",
       "      <td>...</td>\n",
       "      <td>...</td>\n",
       "      <td>...</td>\n",
       "    </tr>\n",
       "    <tr>\n",
       "      <th>988</th>\n",
       "      <td>Incident 8508</td>\n",
       "      <td>Ongoing</td>\n",
       "      <td>2019-12-06</td>\n",
       "      <td>NaN</td>\n",
       "      <td>Southern Connecticut State University</td>\n",
       "      <td>NaN</td>\n",
       "      <td>NaN</td>\n",
       "      <td>NaN</td>\n",
       "      <td>NaN</td>\n",
       "      <td>NaN</td>\n",
       "      <td>NaN</td>\n",
       "      <td>NaN</td>\n",
       "      <td>https://fox61.com/2019/05/02/scsu-administrato...</td>\n",
       "    </tr>\n",
       "    <tr>\n",
       "      <th>989</th>\n",
       "      <td>Incident 8510</td>\n",
       "      <td>Ongoing</td>\n",
       "      <td>2019-12-06</td>\n",
       "      <td>NaN</td>\n",
       "      <td>Bloomsburg University</td>\n",
       "      <td>NaN</td>\n",
       "      <td>NaN</td>\n",
       "      <td>NaN</td>\n",
       "      <td>NaN</td>\n",
       "      <td>NaN</td>\n",
       "      <td>NaN</td>\n",
       "      <td>NaN</td>\n",
       "      <td>https://www.readingeagle.com/news/article/bloo...</td>\n",
       "    </tr>\n",
       "    <tr>\n",
       "      <th>990</th>\n",
       "      <td>Incident 8512</td>\n",
       "      <td>Resolved</td>\n",
       "      <td>2019-12-30</td>\n",
       "      <td>Matthew Ellis</td>\n",
       "      <td>University of Oklahoma</td>\n",
       "      <td>Faculty</td>\n",
       "      <td>Associate Professor</td>\n",
       "      <td>Arts and Humanities</td>\n",
       "      <td>Theatre</td>\n",
       "      <td>Resigned</td>\n",
       "      <td>\"violated OU's consensual sexual relationships...</td>\n",
       "      <td>2019.0</td>\n",
       "      <td>http://www.oudaily.com/news/it-cannot-be-full-...</td>\n",
       "    </tr>\n",
       "    <tr>\n",
       "      <th>991</th>\n",
       "      <td>Incident 8515</td>\n",
       "      <td>Resolved</td>\n",
       "      <td>2019-12-10</td>\n",
       "      <td>Nick Flor</td>\n",
       "      <td>University of New Mexico</td>\n",
       "      <td>Faculty</td>\n",
       "      <td>Professor</td>\n",
       "      <td>Business</td>\n",
       "      <td>business</td>\n",
       "      <td>Fine / Salary Reduction;Suspended / Leave / Re...</td>\n",
       "      <td>\"The report found him responsible for quid pro...</td>\n",
       "      <td>2019.0</td>\n",
       "      <td>https://reason.com/2019/12/10/university-of-ne...</td>\n",
       "    </tr>\n",
       "    <tr>\n",
       "      <th>994</th>\n",
       "      <td>Incident 8522</td>\n",
       "      <td>Ongoing</td>\n",
       "      <td>2019-12-17</td>\n",
       "      <td>NaN</td>\n",
       "      <td>Truman State University</td>\n",
       "      <td>NaN</td>\n",
       "      <td>NaN</td>\n",
       "      <td>NaN</td>\n",
       "      <td>NaN</td>\n",
       "      <td>NaN</td>\n",
       "      <td>NaN</td>\n",
       "      <td>NaN</td>\n",
       "      <td>https://fox2now.com/2019/12/17/truman-state-pr...</td>\n",
       "    </tr>\n",
       "  </tbody>\n",
       "</table>\n",
       "<p>851 rows × 13 columns</p>\n",
       "</div>"
      ],
      "text/plain": [
       "    Incident Number    Status    Updated             Person  \\\n",
       "1     Incident 7205  Resolved 2019-06-07        Leon Howard   \n",
       "2     Incident 7206  Resolved 2019-06-07  LaVonette Bartley   \n",
       "3     Incident 7207  Resolved 2019-06-07        John Knight   \n",
       "4     Incident 7208  Resolved 2019-06-07   Philip Jemilohun   \n",
       "5     Incident 7209  Resolved 2019-06-07     Brian Richmond   \n",
       "..              ...       ...        ...                ...   \n",
       "988   Incident 8508   Ongoing 2019-12-06                NaN   \n",
       "989   Incident 8510   Ongoing 2019-12-06                NaN   \n",
       "990   Incident 8512  Resolved 2019-12-30      Matthew Ellis   \n",
       "991   Incident 8515  Resolved 2019-12-10          Nick Flor   \n",
       "994   Incident 8522   Ongoing 2019-12-17                NaN   \n",
       "\n",
       "                               Institution           Role  \\\n",
       "1                 Alabama State University  Administrator   \n",
       "2                 Alabama State University  Administrator   \n",
       "3                 Alabama State University  Administrator   \n",
       "4                  Albany State University        Faculty   \n",
       "5       American Museum of Natural History        Faculty   \n",
       "..                                     ...            ...   \n",
       "988  Southern Connecticut State University            NaN   \n",
       "989                  Bloomsburg University            NaN   \n",
       "990                 University of Oklahoma        Faculty   \n",
       "991               University of New Mexico        Faculty   \n",
       "994                Truman State University            NaN   \n",
       "\n",
       "                                              Position  \\\n",
       "1                                            President   \n",
       "2    Associate Executive Director in the office of ...   \n",
       "3    Interim President, Special Assistant to the Pr...   \n",
       "4                                  Associate Professor   \n",
       "5                                              Curator   \n",
       "..                                                 ...   \n",
       "988                                                NaN   \n",
       "989                                                NaN   \n",
       "990                                Associate Professor   \n",
       "991                                          Professor   \n",
       "994                                                NaN   \n",
       "\n",
       "                                            Discipline  \\\n",
       "1                                                  NaN   \n",
       "2                                                  NaN   \n",
       "3                                                  NaN   \n",
       "4        Physical Sciences and Mathematics, Bioscience   \n",
       "5    Social and Behavioral Sciences, Anthropology, ...   \n",
       "..                                                 ...   \n",
       "988                                                NaN   \n",
       "989                                                NaN   \n",
       "990                                Arts and Humanities   \n",
       "991                                           Business   \n",
       "994                                                NaN   \n",
       "\n",
       "                Specific Discipline  \\\n",
       "1                               NaN   \n",
       "2                               NaN   \n",
       "3                               NaN   \n",
       "4                        Bioscience   \n",
       "5    Anthropology Paleoanthropology   \n",
       "..                              ...   \n",
       "988                             NaN   \n",
       "989                             NaN   \n",
       "990                         Theatre   \n",
       "991                        business   \n",
       "994                             NaN   \n",
       "\n",
       "                                               Outcome  \\\n",
       "1    Criminal Plea / Conviction;Jury / Judge Findin...   \n",
       "2            Jury / Judge Finding - Civil Case;Retired   \n",
       "3                    Jury / Judge Finding - Civil Case   \n",
       "4                                             Resigned   \n",
       "5                Official Warning / Reprimand;Resigned   \n",
       "..                                                 ...   \n",
       "988                                                NaN   \n",
       "989                                                NaN   \n",
       "990                                           Resigned   \n",
       "991  Fine / Salary Reduction;Suspended / Leave / Re...   \n",
       "994                                                NaN   \n",
       "\n",
       "                                      Specific Outcome  Outcome Year  \\\n",
       "1    Grand jury indictment on charges of attempted ...        1993.0   \n",
       "2    Retired. jury award of over $1 million. (see J...        2010.0   \n",
       "3    Jury award of over $1 million. (see LaVonette ...        2010.0   \n",
       "4    Arrested/had prior convictions, outcome unknow...        2009.0   \n",
       "5    Found to have violated policy related to super...        2016.0   \n",
       "..                                                 ...           ...   \n",
       "988                                                NaN           NaN   \n",
       "989                                                NaN           NaN   \n",
       "990  \"violated OU's consensual sexual relationships...        2019.0   \n",
       "991  \"The report found him responsible for quid pro...        2019.0   \n",
       "994                                                NaN           NaN   \n",
       "\n",
       "                                      Original Link(s)  \n",
       "1    http://chronicle.com/article/Jury-Determines-E...  \n",
       "2    https://web.archive.org/web/20120218172146/htt...  \n",
       "3    https://web.archive.org/web/20120218172146/htt...  \n",
       "4    http://wfxl.com/news/local/albany-state-univer...  \n",
       "5    http://www.sciencemag.org/news/2016/02/sexual-...  \n",
       "..                                                 ...  \n",
       "988  https://fox61.com/2019/05/02/scsu-administrato...  \n",
       "989  https://www.readingeagle.com/news/article/bloo...  \n",
       "990  http://www.oudaily.com/news/it-cannot-be-full-...  \n",
       "991  https://reason.com/2019/12/10/university-of-ne...  \n",
       "994  https://fox2now.com/2019/12/17/truman-state-pr...  \n",
       "\n",
       "[851 rows x 13 columns]"
      ]
     },
     "execution_count": 45,
     "metadata": {},
     "output_type": "execute_result"
    }
   ],
   "source": [
    "selecao = (df_tabelaviolencia['Updated'] >= '2019') & (df_tabelaviolencia['Updated'] <= '2020')\n",
    "\n",
    "df_filtrado = df_tabelaviolencia[selecao]\n",
    "\n",
    "df_filtrado"
   ]
  },
  {
   "cell_type": "code",
   "execution_count": 52,
   "metadata": {},
   "outputs": [],
   "source": [
    "df_tabelaviolencia['Ano'] = df_tabelaviolencia['Updated'].dt.year\n"
   ]
  },
  {
   "cell_type": "code",
   "execution_count": 54,
   "metadata": {},
   "outputs": [
    {
     "data": {
      "text/plain": [
       "Ano\n",
       "2019    851\n",
       "2021    136\n",
       "2020    135\n",
       "2022    105\n",
       "2023     32\n",
       "Name: count, dtype: int64"
      ]
     },
     "execution_count": 54,
     "metadata": {},
     "output_type": "execute_result"
    }
   ],
   "source": [
    "total_ano = df_tabelaviolencia['Ano'].value_counts()\n",
    "total_ano"
   ]
  },
  {
   "cell_type": "code",
   "execution_count": 56,
   "metadata": {},
   "outputs": [
    {
     "data": {
      "image/png": "[encoded data removed]",
      "text/plain": [
       "<Figure size 640x480 with 1 Axes>"
      ]
     },
     "metadata": {},
     "output_type": "display_data"
    }
   ],
   "source": [
    "casos_ano = df_tabelaviolencia['Ano'].value_counts()\n",
    "casos_ano.plot(kind='bar')\n",
    "\n",
    "plt.show()"
   ]
  }
 ],
 "metadata": {
  "kernelspec": {
   "display_name": "Python 3",
   "language": "python",
   "name": "python3"
  },
  "language_info": {
   "codemirror_mode": {
    "name": "ipython",
    "version": 3
   },
   "file_extension": ".py",
   "mimetype": "text/x-python",
   "name": "python",
   "nbconvert_exporter": "python",
   "pygments_lexer": "ipython3",
   "version": "3.11.7"
  }
 },
 "nbformat": 4,
 "nbformat_minor": 2
}
