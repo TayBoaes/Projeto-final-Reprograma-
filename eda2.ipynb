{
 "cells": [
  {
   "cell_type": "markdown",
   "metadata": {},
   "source": [
    "# Análise exploratória dos dados (Exploratory Data Analysis - EDA) - Meu professor abusador \n",
    "\n",
    "A presente análise investiga o levantamnto independente de dados que fiz durante o mestrado no Programa de Pós-Graduação em Antropologia Social pela Universidade Federal do Amazonas. O dataset inclui relatos públicos feitos através de postagens na comunidade `Meu Professor Abusador`. No total foram 640 denúncias publicadas, a quantidade era identificada pela hashtag # e em seguida o número correspondente. Até o dado momento, selecionei somente postagens que dizem respeito ao contexto universitário, totalizando 104 postagens. \n",
    "\n",
    "Link da página do facebook: https://web.facebook.com/profile.php?id=100071438764857\n"
   ]
  },
  {
   "cell_type": "markdown",
   "metadata": {},
   "source": [
    "# 1 - Importando as bibliotecas\n",
    "Para essa análise exploratória vamos utilizar as bibliotecas `Pandas` e `Matplotlib`."
   ]
  },
  {
   "cell_type": "code",
   "execution_count": 1,
   "metadata": {},
   "outputs": [],
   "source": [
    "\n",
    "import pandas as pd\n",
    "\n",
    "import matplotlib.pyplot as plt"
   ]
  },
  {
   "cell_type": "markdown",
   "metadata": {},
   "source": [
    "# 2 - Carregando os dados"
   ]
  },
  {
   "cell_type": "code",
   "execution_count": 2,
   "metadata": {},
   "outputs": [
    {
     "data": {
      "text/html": [
       "<div>\n",
       "<style scoped>\n",
       "    .dataframe tbody tr th:only-of-type {\n",
       "        vertical-align: middle;\n",
       "    }\n",
       "\n",
       "    .dataframe tbody tr th {\n",
       "        vertical-align: top;\n",
       "    }\n",
       "\n",
       "    .dataframe thead th {\n",
       "        text-align: right;\n",
       "    }\n",
       "</style>\n",
       "<table border=\"1\" class=\"dataframe\">\n",
       "  <thead>\n",
       "    <tr style=\"text-align: right;\">\n",
       "      <th></th>\n",
       "      <th>iddapublicacao</th>\n",
       "      <th>tipodeassedio</th>\n",
       "      <th>instituicao</th>\n",
       "      <th>pais</th>\n",
       "      <th>estado</th>\n",
       "      <th>curso</th>\n",
       "      <th>linkspublicacao</th>\n",
       "    </tr>\n",
       "  </thead>\n",
       "  <tbody>\n",
       "    <tr>\n",
       "      <th>0</th>\n",
       "      <td>2</td>\n",
       "      <td>sexista</td>\n",
       "      <td>UFRGS</td>\n",
       "      <td>Brasil</td>\n",
       "      <td>Rio Grande do Sul</td>\n",
       "      <td>letras</td>\n",
       "      <td>https://web.facebook.com/permalink.php?story_f...</td>\n",
       "    </tr>\n",
       "    <tr>\n",
       "      <th>1</th>\n",
       "      <td>6</td>\n",
       "      <td>sexual</td>\n",
       "      <td>NaN</td>\n",
       "      <td>Brasil</td>\n",
       "      <td>NaN</td>\n",
       "      <td>NaN</td>\n",
       "      <td>https://web.facebook.com/permalink.php?story_f...</td>\n",
       "    </tr>\n",
       "    <tr>\n",
       "      <th>2</th>\n",
       "      <td>28</td>\n",
       "      <td>identidade</td>\n",
       "      <td>UERJ</td>\n",
       "      <td>Brasil</td>\n",
       "      <td>Rio de Janeiro</td>\n",
       "      <td>geografia</td>\n",
       "      <td>https://web.facebook.com/permalink.php?story_f...</td>\n",
       "    </tr>\n",
       "    <tr>\n",
       "      <th>3</th>\n",
       "      <td>33</td>\n",
       "      <td>sexista</td>\n",
       "      <td>NaN</td>\n",
       "      <td>Brasil</td>\n",
       "      <td>NaN</td>\n",
       "      <td>NaN</td>\n",
       "      <td>https://web.facebook.com/permalink.php?story_f...</td>\n",
       "    </tr>\n",
       "    <tr>\n",
       "      <th>4</th>\n",
       "      <td>34</td>\n",
       "      <td>sexual</td>\n",
       "      <td>NaN</td>\n",
       "      <td>Brasil</td>\n",
       "      <td>NaN</td>\n",
       "      <td>NaN</td>\n",
       "      <td>https://web.facebook.com/permalink.php?story_f...</td>\n",
       "    </tr>\n",
       "    <tr>\n",
       "      <th>...</th>\n",
       "      <td>...</td>\n",
       "      <td>...</td>\n",
       "      <td>...</td>\n",
       "      <td>...</td>\n",
       "      <td>...</td>\n",
       "      <td>...</td>\n",
       "      <td>...</td>\n",
       "    </tr>\n",
       "    <tr>\n",
       "      <th>98</th>\n",
       "      <td>617</td>\n",
       "      <td>sexista</td>\n",
       "      <td>UNICENTRO</td>\n",
       "      <td>Brasil</td>\n",
       "      <td>Paraná</td>\n",
       "      <td>letras</td>\n",
       "      <td>https://web.facebook.com/permalink.php?story_f...</td>\n",
       "    </tr>\n",
       "    <tr>\n",
       "      <th>99</th>\n",
       "      <td>628</td>\n",
       "      <td>sexual</td>\n",
       "      <td>NaN</td>\n",
       "      <td>Brasil</td>\n",
       "      <td>Espírito Santo</td>\n",
       "      <td>NaN</td>\n",
       "      <td>https://web.facebook.com/permalink.php?story_f...</td>\n",
       "    </tr>\n",
       "    <tr>\n",
       "      <th>100</th>\n",
       "      <td>629</td>\n",
       "      <td>sexual</td>\n",
       "      <td>METODISTA</td>\n",
       "      <td>Brasil</td>\n",
       "      <td>São Paulo</td>\n",
       "      <td>NaN</td>\n",
       "      <td>https://web.facebook.com/permalink.php?story_f...</td>\n",
       "    </tr>\n",
       "    <tr>\n",
       "      <th>101</th>\n",
       "      <td>631</td>\n",
       "      <td>sexual</td>\n",
       "      <td>PUCRS</td>\n",
       "      <td>Brasil</td>\n",
       "      <td>Rio Grande do Sul</td>\n",
       "      <td>direito</td>\n",
       "      <td>https://web.facebook.com/permalink.php?story_f...</td>\n",
       "    </tr>\n",
       "    <tr>\n",
       "      <th>102</th>\n",
       "      <td>640</td>\n",
       "      <td>sexual</td>\n",
       "      <td>NaN</td>\n",
       "      <td>Brasil</td>\n",
       "      <td>Rio de Janeiro</td>\n",
       "      <td>medicina</td>\n",
       "      <td>https://web.facebook.com/permalink.php?story_f...</td>\n",
       "    </tr>\n",
       "  </tbody>\n",
       "</table>\n",
       "<p>103 rows × 7 columns</p>\n",
       "</div>"
      ],
      "text/plain": [
       "     iddapublicacao tipodeassedio instituicao   pais              estado  \\\n",
       "0                 2       sexista       UFRGS  Brasil  Rio Grande do Sul   \n",
       "1                 6        sexual         NaN  Brasil                NaN   \n",
       "2                28    identidade        UERJ  Brasil     Rio de Janeiro   \n",
       "3                33       sexista         NaN  Brasil                NaN   \n",
       "4                34        sexual         NaN  Brasil                NaN   \n",
       "..              ...           ...         ...     ...                ...   \n",
       "98              617       sexista   UNICENTRO  Brasil             Paraná   \n",
       "99              628        sexual         NaN  Brasil     Espírito Santo   \n",
       "100             629        sexual   METODISTA  Brasil          São Paulo   \n",
       "101             631        sexual       PUCRS  Brasil  Rio Grande do Sul   \n",
       "102             640        sexual         NaN  Brasil     Rio de Janeiro   \n",
       "\n",
       "         curso                                    linkspublicacao  \n",
       "0       letras  https://web.facebook.com/permalink.php?story_f...  \n",
       "1          NaN  https://web.facebook.com/permalink.php?story_f...  \n",
       "2    geografia  https://web.facebook.com/permalink.php?story_f...  \n",
       "3          NaN  https://web.facebook.com/permalink.php?story_f...  \n",
       "4          NaN  https://web.facebook.com/permalink.php?story_f...  \n",
       "..         ...                                                ...  \n",
       "98      letras  https://web.facebook.com/permalink.php?story_f...  \n",
       "99         NaN  https://web.facebook.com/permalink.php?story_f...  \n",
       "100        NaN  https://web.facebook.com/permalink.php?story_f...  \n",
       "101    direito  https://web.facebook.com/permalink.php?story_f...  \n",
       "102   medicina  https://web.facebook.com/permalink.php?story_f...  \n",
       "\n",
       "[103 rows x 7 columns]"
      ]
     },
     "execution_count": 2,
     "metadata": {},
     "output_type": "execute_result"
    }
   ],
   "source": [
    "#Visão completa do nosso dataset\n",
    "df_meuprofessor= pd.read_csv('meuprofessor.csv', sep=';', encoding='latin-1')\n",
    "df_meuprofessor"
   ]
  },
  {
   "cell_type": "markdown",
   "metadata": {},
   "source": [
    "# 3 - Inspeção básica dos dados"
   ]
  },
  {
   "cell_type": "code",
   "execution_count": 9,
   "metadata": {},
   "outputs": [
    {
     "data": {
      "text/html": [
       "<div>\n",
       "<style scoped>\n",
       "    .dataframe tbody tr th:only-of-type {\n",
       "        vertical-align: middle;\n",
       "    }\n",
       "\n",
       "    .dataframe tbody tr th {\n",
       "        vertical-align: top;\n",
       "    }\n",
       "\n",
       "    .dataframe thead th {\n",
       "        text-align: right;\n",
       "    }\n",
       "</style>\n",
       "<table border=\"1\" class=\"dataframe\">\n",
       "  <thead>\n",
       "    <tr style=\"text-align: right;\">\n",
       "      <th></th>\n",
       "      <th>iddapublicacao</th>\n",
       "      <th>tipodeassedio</th>\n",
       "      <th>instituicao</th>\n",
       "      <th>pais</th>\n",
       "      <th>estado</th>\n",
       "      <th>curso</th>\n",
       "      <th>linkspublicacao</th>\n",
       "    </tr>\n",
       "  </thead>\n",
       "  <tbody>\n",
       "    <tr>\n",
       "      <th>0</th>\n",
       "      <td>2</td>\n",
       "      <td>sexista</td>\n",
       "      <td>UFRGS</td>\n",
       "      <td>Brasil</td>\n",
       "      <td>Rio Grande do Sul</td>\n",
       "      <td>letras</td>\n",
       "      <td>https://web.facebook.com/permalink.php?story_f...</td>\n",
       "    </tr>\n",
       "    <tr>\n",
       "      <th>1</th>\n",
       "      <td>6</td>\n",
       "      <td>sexual</td>\n",
       "      <td>NaN</td>\n",
       "      <td>Brasil</td>\n",
       "      <td>NaN</td>\n",
       "      <td>NaN</td>\n",
       "      <td>https://web.facebook.com/permalink.php?story_f...</td>\n",
       "    </tr>\n",
       "    <tr>\n",
       "      <th>2</th>\n",
       "      <td>28</td>\n",
       "      <td>identidade</td>\n",
       "      <td>UERJ</td>\n",
       "      <td>Brasil</td>\n",
       "      <td>Rio de Janeiro</td>\n",
       "      <td>geografia</td>\n",
       "      <td>https://web.facebook.com/permalink.php?story_f...</td>\n",
       "    </tr>\n",
       "    <tr>\n",
       "      <th>3</th>\n",
       "      <td>33</td>\n",
       "      <td>sexista</td>\n",
       "      <td>NaN</td>\n",
       "      <td>Brasil</td>\n",
       "      <td>NaN</td>\n",
       "      <td>NaN</td>\n",
       "      <td>https://web.facebook.com/permalink.php?story_f...</td>\n",
       "    </tr>\n",
       "    <tr>\n",
       "      <th>4</th>\n",
       "      <td>34</td>\n",
       "      <td>sexual</td>\n",
       "      <td>NaN</td>\n",
       "      <td>Brasil</td>\n",
       "      <td>NaN</td>\n",
       "      <td>NaN</td>\n",
       "      <td>https://web.facebook.com/permalink.php?story_f...</td>\n",
       "    </tr>\n",
       "    <tr>\n",
       "      <th>...</th>\n",
       "      <td>...</td>\n",
       "      <td>...</td>\n",
       "      <td>...</td>\n",
       "      <td>...</td>\n",
       "      <td>...</td>\n",
       "      <td>...</td>\n",
       "      <td>...</td>\n",
       "    </tr>\n",
       "    <tr>\n",
       "      <th>98</th>\n",
       "      <td>617</td>\n",
       "      <td>sexista</td>\n",
       "      <td>UNICENTRO</td>\n",
       "      <td>Brasil</td>\n",
       "      <td>Paraná</td>\n",
       "      <td>letras</td>\n",
       "      <td>https://web.facebook.com/permalink.php?story_f...</td>\n",
       "    </tr>\n",
       "    <tr>\n",
       "      <th>99</th>\n",
       "      <td>628</td>\n",
       "      <td>sexual</td>\n",
       "      <td>NaN</td>\n",
       "      <td>Brasil</td>\n",
       "      <td>Espírito Santo</td>\n",
       "      <td>NaN</td>\n",
       "      <td>https://web.facebook.com/permalink.php?story_f...</td>\n",
       "    </tr>\n",
       "    <tr>\n",
       "      <th>100</th>\n",
       "      <td>629</td>\n",
       "      <td>sexual</td>\n",
       "      <td>METODISTA</td>\n",
       "      <td>Brasil</td>\n",
       "      <td>São Paulo</td>\n",
       "      <td>NaN</td>\n",
       "      <td>https://web.facebook.com/permalink.php?story_f...</td>\n",
       "    </tr>\n",
       "    <tr>\n",
       "      <th>101</th>\n",
       "      <td>631</td>\n",
       "      <td>sexual</td>\n",
       "      <td>PUCRS</td>\n",
       "      <td>Brasil</td>\n",
       "      <td>Rio Grande do Sul</td>\n",
       "      <td>direito</td>\n",
       "      <td>https://web.facebook.com/permalink.php?story_f...</td>\n",
       "    </tr>\n",
       "    <tr>\n",
       "      <th>102</th>\n",
       "      <td>640</td>\n",
       "      <td>sexual</td>\n",
       "      <td>NaN</td>\n",
       "      <td>Brasil</td>\n",
       "      <td>Rio de Janeiro</td>\n",
       "      <td>medicina</td>\n",
       "      <td>https://web.facebook.com/permalink.php?story_f...</td>\n",
       "    </tr>\n",
       "  </tbody>\n",
       "</table>\n",
       "<p>103 rows × 7 columns</p>\n",
       "</div>"
      ],
      "text/plain": [
       "     iddapublicacao tipodeassedio instituicao   pais              estado  \\\n",
       "0                 2       sexista       UFRGS  Brasil  Rio Grande do Sul   \n",
       "1                 6        sexual         NaN  Brasil                NaN   \n",
       "2                28    identidade        UERJ  Brasil     Rio de Janeiro   \n",
       "3                33       sexista         NaN  Brasil                NaN   \n",
       "4                34        sexual         NaN  Brasil                NaN   \n",
       "..              ...           ...         ...     ...                ...   \n",
       "98              617       sexista   UNICENTRO  Brasil             Paraná   \n",
       "99              628        sexual         NaN  Brasil     Espírito Santo   \n",
       "100             629        sexual   METODISTA  Brasil          São Paulo   \n",
       "101             631        sexual       PUCRS  Brasil  Rio Grande do Sul   \n",
       "102             640        sexual         NaN  Brasil     Rio de Janeiro   \n",
       "\n",
       "         curso                                    linkspublicacao  \n",
       "0       letras  https://web.facebook.com/permalink.php?story_f...  \n",
       "1          NaN  https://web.facebook.com/permalink.php?story_f...  \n",
       "2    geografia  https://web.facebook.com/permalink.php?story_f...  \n",
       "3          NaN  https://web.facebook.com/permalink.php?story_f...  \n",
       "4          NaN  https://web.facebook.com/permalink.php?story_f...  \n",
       "..         ...                                                ...  \n",
       "98      letras  https://web.facebook.com/permalink.php?story_f...  \n",
       "99         NaN  https://web.facebook.com/permalink.php?story_f...  \n",
       "100        NaN  https://web.facebook.com/permalink.php?story_f...  \n",
       "101    direito  https://web.facebook.com/permalink.php?story_f...  \n",
       "102   medicina  https://web.facebook.com/permalink.php?story_f...  \n",
       "\n",
       "[103 rows x 7 columns]"
      ]
     },
     "execution_count": 9,
     "metadata": {},
     "output_type": "execute_result"
    }
   ],
   "source": [
    "#Verificando as dimensões do dataframe: O DF possui 103 linhas e 7 colunas\n",
    "df_meuprofessor.shape\n",
    "df_meuprofessor"
   ]
  },
  {
   "cell_type": "code",
   "execution_count": 10,
   "metadata": {},
   "outputs": [
    {
     "data": {
      "text/plain": [
       "iddapublicacao       int64\n",
       "tipodeassedio       object\n",
       "instituicao         object\n",
       "pais                object\n",
       "estado              object\n",
       "curso               object\n",
       " linkspublicacao    object\n",
       "dtype: object"
      ]
     },
     "execution_count": 10,
     "metadata": {},
     "output_type": "execute_result"
    }
   ],
   "source": [
    "#Verificando os tipos dos dados\n",
    "df_meuprofessor.dtypes"
   ]
  },
  {
   "cell_type": "code",
   "execution_count": 54,
   "metadata": {},
   "outputs": [
    {
     "data": {
      "text/html": [
       "<div>\n",
       "<style scoped>\n",
       "    .dataframe tbody tr th:only-of-type {\n",
       "        vertical-align: middle;\n",
       "    }\n",
       "\n",
       "    .dataframe tbody tr th {\n",
       "        vertical-align: top;\n",
       "    }\n",
       "\n",
       "    .dataframe thead th {\n",
       "        text-align: right;\n",
       "    }\n",
       "</style>\n",
       "<table border=\"1\" class=\"dataframe\">\n",
       "  <thead>\n",
       "    <tr style=\"text-align: right;\">\n",
       "      <th></th>\n",
       "      <th>iddapublicacao</th>\n",
       "    </tr>\n",
       "  </thead>\n",
       "  <tbody>\n",
       "    <tr>\n",
       "      <th>count</th>\n",
       "      <td>103.000000</td>\n",
       "    </tr>\n",
       "    <tr>\n",
       "      <th>mean</th>\n",
       "      <td>297.349515</td>\n",
       "    </tr>\n",
       "    <tr>\n",
       "      <th>std</th>\n",
       "      <td>198.701950</td>\n",
       "    </tr>\n",
       "    <tr>\n",
       "      <th>min</th>\n",
       "      <td>2.000000</td>\n",
       "    </tr>\n",
       "    <tr>\n",
       "      <th>25%</th>\n",
       "      <td>123.000000</td>\n",
       "    </tr>\n",
       "    <tr>\n",
       "      <th>50%</th>\n",
       "      <td>268.000000</td>\n",
       "    </tr>\n",
       "    <tr>\n",
       "      <th>75%</th>\n",
       "      <td>488.500000</td>\n",
       "    </tr>\n",
       "    <tr>\n",
       "      <th>max</th>\n",
       "      <td>640.000000</td>\n",
       "    </tr>\n",
       "  </tbody>\n",
       "</table>\n",
       "</div>"
      ],
      "text/plain": [
       "       iddapublicacao\n",
       "count      103.000000\n",
       "mean       297.349515\n",
       "std        198.701950\n",
       "min          2.000000\n",
       "25%        123.000000\n",
       "50%        268.000000\n",
       "75%        488.500000\n",
       "max        640.000000"
      ]
     },
     "execution_count": 54,
     "metadata": {},
     "output_type": "execute_result"
    }
   ],
   "source": [
    "#Resumo estatístico dos dados\n",
    "df_meuprofessor.describe()"
   ]
  },
  {
   "cell_type": "code",
   "execution_count": 12,
   "metadata": {},
   "outputs": [
    {
     "data": {
      "text/plain": [
       "iddapublicacao      103\n",
       "tipodeassedio       103\n",
       "instituicao          64\n",
       "pais                 97\n",
       "estado               74\n",
       "curso                55\n",
       " linkspublicacao    103\n",
       "dtype: int64"
      ]
     },
     "execution_count": 12,
     "metadata": {},
     "output_type": "execute_result"
    }
   ],
   "source": [
    "#Verificando a quantidade de valores nas colunas\n",
    "df_meuprofessor.count()"
   ]
  },
  {
   "cell_type": "code",
   "execution_count": 65,
   "metadata": {},
   "outputs": [
    {
     "name": "stdout",
     "output_type": "stream",
     "text": [
      "Valores nulos por coluna do dataframe:\n",
      "iddapublicacao       0\n",
      "tipodeassedio        0\n",
      "instituicao         39\n",
      "pais                 6\n",
      "estado              29\n",
      "curso               48\n",
      " linkspublicacao     0\n",
      "dtype: int64\n"
     ]
    }
   ],
   "source": [
    "#Verificando valores nulos no dataset:\n",
    "print(\"Valores nulos por coluna do dataframe:\")\n",
    "print(df_meuprofessor.isnull().sum())"
   ]
  },
  {
   "cell_type": "code",
   "execution_count": 13,
   "metadata": {},
   "outputs": [
    {
     "data": {
      "text/plain": [
       "Index(['iddapublicacao', 'tipodeassedio', 'instituicao', 'pais ', 'estado',\n",
       "       'curso', ' linkspublicacao'],\n",
       "      dtype='object')"
      ]
     },
     "execution_count": 13,
     "metadata": {},
     "output_type": "execute_result"
    }
   ],
   "source": [
    "#Verificando o título de cada coluna\n",
    "df_meuprofessor.columns"
   ]
  },
  {
   "cell_type": "markdown",
   "metadata": {},
   "source": [
    "# 4 - Limpeza dos dados"
   ]
  },
  {
   "cell_type": "code",
   "execution_count": 14,
   "metadata": {},
   "outputs": [
    {
     "data": {
      "text/plain": [
       "iddapublicacao       0\n",
       "tipodeassedio        0\n",
       "instituicao         39\n",
       "pais                 6\n",
       "estado              29\n",
       "curso               48\n",
       " linkspublicacao     0\n",
       "dtype: int64"
      ]
     },
     "execution_count": 14,
     "metadata": {},
     "output_type": "execute_result"
    }
   ],
   "source": [
    "#Contagem de dados nulos\n",
    "df_meuprofessor.isnull().sum()"
   ]
  },
  {
   "cell_type": "code",
   "execution_count": 46,
   "metadata": {},
   "outputs": [
    {
     "data": {
      "text/plain": [
       "0      False\n",
       "1      False\n",
       "2      False\n",
       "3      False\n",
       "4      False\n",
       "       ...  \n",
       "98     False\n",
       "99     False\n",
       "100    False\n",
       "101    False\n",
       "102    False\n",
       "Length: 103, dtype: bool"
      ]
     },
     "execution_count": 46,
     "metadata": {},
     "output_type": "execute_result"
    }
   ],
   "source": [
    "#Verificando dados duplicados: podemos observar que o dataframe não possui dados duplicados.\n",
    "df_meuprofessor.duplicated()\n"
   ]
  },
  {
   "cell_type": "code",
   "execution_count": null,
   "metadata": {},
   "outputs": [],
   "source": [
    "# Removendo entradas (linhas) contendo valores nulos em colunas específicas. A função dropna remove valores ausentes:\n",
    "#df = df_meuprofessor.dropna(subset=['pais'])\n",
    "#df.shape"
   ]
  },
  {
   "cell_type": "code",
   "execution_count": null,
   "metadata": {},
   "outputs": [],
   "source": [
    "# Removendo entradas duplicadas\n",
    "#df = df_meuprofessor.drop_duplicates()\n",
    "#df.shape"
   ]
  },
  {
   "cell_type": "markdown",
   "metadata": {},
   "source": [
    "# 5 - Explorando análises de dados específicos "
   ]
  },
  {
   "cell_type": "code",
   "execution_count": 16,
   "metadata": {},
   "outputs": [
    {
     "data": {
      "text/html": [
       "<div>\n",
       "<style scoped>\n",
       "    .dataframe tbody tr th:only-of-type {\n",
       "        vertical-align: middle;\n",
       "    }\n",
       "\n",
       "    .dataframe tbody tr th {\n",
       "        vertical-align: top;\n",
       "    }\n",
       "\n",
       "    .dataframe thead th {\n",
       "        text-align: right;\n",
       "    }\n",
       "</style>\n",
       "<table border=\"1\" class=\"dataframe\">\n",
       "  <thead>\n",
       "    <tr style=\"text-align: right;\">\n",
       "      <th></th>\n",
       "      <th>iddapublicacao</th>\n",
       "      <th>tipodeassedio</th>\n",
       "      <th>instituicao</th>\n",
       "      <th>pais</th>\n",
       "      <th>estado</th>\n",
       "      <th>curso</th>\n",
       "      <th>linkspublicacao</th>\n",
       "    </tr>\n",
       "  </thead>\n",
       "  <tbody>\n",
       "    <tr>\n",
       "      <th>7</th>\n",
       "      <td>39</td>\n",
       "      <td>sexista</td>\n",
       "      <td>NaN</td>\n",
       "      <td>Brasil</td>\n",
       "      <td>NaN</td>\n",
       "      <td>medicina</td>\n",
       "      <td>https://web.facebook.com/permalink.php?story_f...</td>\n",
       "    </tr>\n",
       "    <tr>\n",
       "      <th>30</th>\n",
       "      <td>136</td>\n",
       "      <td>sexual</td>\n",
       "      <td>NaN</td>\n",
       "      <td>Brasil</td>\n",
       "      <td>NaN</td>\n",
       "      <td>medicina</td>\n",
       "      <td>https://web.facebook.com/permalink.php?story_f...</td>\n",
       "    </tr>\n",
       "    <tr>\n",
       "      <th>41</th>\n",
       "      <td>182</td>\n",
       "      <td>identidade</td>\n",
       "      <td>NaN</td>\n",
       "      <td>Brasil</td>\n",
       "      <td>NaN</td>\n",
       "      <td>medicina</td>\n",
       "      <td>https://web.facebook.com/permalink.php?story_f...</td>\n",
       "    </tr>\n",
       "    <tr>\n",
       "      <th>47</th>\n",
       "      <td>221</td>\n",
       "      <td>sexista</td>\n",
       "      <td>CATOLÍCA</td>\n",
       "      <td>Brasil</td>\n",
       "      <td>Brasília</td>\n",
       "      <td>medicina</td>\n",
       "      <td>https://web.facebook.com/permalink.php?story_f...</td>\n",
       "    </tr>\n",
       "    <tr>\n",
       "      <th>70</th>\n",
       "      <td>443</td>\n",
       "      <td>sexual</td>\n",
       "      <td>UFF</td>\n",
       "      <td>Brasil</td>\n",
       "      <td>Rio de Janeiro</td>\n",
       "      <td>medicina</td>\n",
       "      <td>https://web.facebook.com/permalink.php?story_f...</td>\n",
       "    </tr>\n",
       "    <tr>\n",
       "      <th>93</th>\n",
       "      <td>586</td>\n",
       "      <td>sexual</td>\n",
       "      <td>UFRGS</td>\n",
       "      <td>Brasil</td>\n",
       "      <td>Rio Grande do Sul</td>\n",
       "      <td>medicina</td>\n",
       "      <td>https://web.facebook.com/permalink.php?story_f...</td>\n",
       "    </tr>\n",
       "    <tr>\n",
       "      <th>94</th>\n",
       "      <td>587</td>\n",
       "      <td>sexual</td>\n",
       "      <td>UFRGS</td>\n",
       "      <td>Brasil</td>\n",
       "      <td>Rio Grande do Sul</td>\n",
       "      <td>medicina</td>\n",
       "      <td>https://web.facebook.com/permalink.php?story_f...</td>\n",
       "    </tr>\n",
       "    <tr>\n",
       "      <th>102</th>\n",
       "      <td>640</td>\n",
       "      <td>sexual</td>\n",
       "      <td>NaN</td>\n",
       "      <td>Brasil</td>\n",
       "      <td>Rio de Janeiro</td>\n",
       "      <td>medicina</td>\n",
       "      <td>https://web.facebook.com/permalink.php?story_f...</td>\n",
       "    </tr>\n",
       "  </tbody>\n",
       "</table>\n",
       "</div>"
      ],
      "text/plain": [
       "     iddapublicacao tipodeassedio instituicao   pais              estado  \\\n",
       "7                39       sexista         NaN  Brasil                NaN   \n",
       "30              136        sexual         NaN  Brasil                NaN   \n",
       "41              182    identidade         NaN  Brasil                NaN   \n",
       "47              221       sexista    CATOLÍCA  Brasil           Brasília   \n",
       "70              443        sexual         UFF  Brasil     Rio de Janeiro   \n",
       "93              586        sexual       UFRGS  Brasil  Rio Grande do Sul   \n",
       "94              587        sexual       UFRGS  Brasil  Rio Grande do Sul   \n",
       "102             640        sexual         NaN  Brasil     Rio de Janeiro   \n",
       "\n",
       "        curso                                    linkspublicacao  \n",
       "7    medicina  https://web.facebook.com/permalink.php?story_f...  \n",
       "30   medicina  https://web.facebook.com/permalink.php?story_f...  \n",
       "41   medicina  https://web.facebook.com/permalink.php?story_f...  \n",
       "47   medicina  https://web.facebook.com/permalink.php?story_f...  \n",
       "70   medicina  https://web.facebook.com/permalink.php?story_f...  \n",
       "93   medicina  https://web.facebook.com/permalink.php?story_f...  \n",
       "94   medicina  https://web.facebook.com/permalink.php?story_f...  \n",
       "102  medicina  https://web.facebook.com/permalink.php?story_f...  "
      ]
     },
     "execution_count": 16,
     "metadata": {},
     "output_type": "execute_result"
    }
   ],
   "source": [
    "#Filtrado uma única condição\n",
    "df_meuprofessor[(df_meuprofessor['curso'] == 'medicina')]"
   ]
  },
  {
   "cell_type": "code",
   "execution_count": 17,
   "metadata": {},
   "outputs": [
    {
     "data": {
      "text/plain": [
       "(8, 7)"
      ]
     },
     "execution_count": 17,
     "metadata": {},
     "output_type": "execute_result"
    }
   ],
   "source": [
    "#A variável medicina foi encontrada em 8 linhas\n",
    "df = df_meuprofessor[df_meuprofessor['curso'] == \"medicina\"]\n",
    "df.shape"
   ]
  },
  {
   "cell_type": "code",
   "execution_count": 22,
   "metadata": {},
   "outputs": [
    {
     "data": {
      "text/plain": [
       "(10, 7)"
      ]
     },
     "execution_count": 22,
     "metadata": {},
     "output_type": "execute_result"
    }
   ],
   "source": [
    "# Agora um filtro com múltiplas condições. Podemos obervar que na UFRGS tiveram 10 casos de assedio sexual\n",
    "df_filtro_condicao = df_meuprofessor[(df_meuprofessor['instituicao'] == 'UFRGS') & (df_meuprofessor['tipodeassedio'] == 'sexual')]\n",
    "df_filtro_condicao.shape"
   ]
  },
  {
   "cell_type": "code",
   "execution_count": 47,
   "metadata": {},
   "outputs": [
    {
     "data": {
      "text/html": [
       "<div>\n",
       "<style scoped>\n",
       "    .dataframe tbody tr th:only-of-type {\n",
       "        vertical-align: middle;\n",
       "    }\n",
       "\n",
       "    .dataframe tbody tr th {\n",
       "        vertical-align: top;\n",
       "    }\n",
       "\n",
       "    .dataframe thead th {\n",
       "        text-align: right;\n",
       "    }\n",
       "</style>\n",
       "<table border=\"1\" class=\"dataframe\">\n",
       "  <thead>\n",
       "    <tr style=\"text-align: right;\">\n",
       "      <th></th>\n",
       "      <th>estado</th>\n",
       "      <th>curso</th>\n",
       "    </tr>\n",
       "  </thead>\n",
       "  <tbody>\n",
       "    <tr>\n",
       "      <th>0</th>\n",
       "      <td>Rio Grande do Sul</td>\n",
       "      <td>letras</td>\n",
       "    </tr>\n",
       "    <tr>\n",
       "      <th>1</th>\n",
       "      <td>NaN</td>\n",
       "      <td>NaN</td>\n",
       "    </tr>\n",
       "    <tr>\n",
       "      <th>2</th>\n",
       "      <td>Rio de Janeiro</td>\n",
       "      <td>geografia</td>\n",
       "    </tr>\n",
       "    <tr>\n",
       "      <th>3</th>\n",
       "      <td>NaN</td>\n",
       "      <td>NaN</td>\n",
       "    </tr>\n",
       "    <tr>\n",
       "      <th>4</th>\n",
       "      <td>NaN</td>\n",
       "      <td>NaN</td>\n",
       "    </tr>\n",
       "    <tr>\n",
       "      <th>...</th>\n",
       "      <td>...</td>\n",
       "      <td>...</td>\n",
       "    </tr>\n",
       "    <tr>\n",
       "      <th>98</th>\n",
       "      <td>Paraná</td>\n",
       "      <td>letras</td>\n",
       "    </tr>\n",
       "    <tr>\n",
       "      <th>99</th>\n",
       "      <td>Espírito Santo</td>\n",
       "      <td>NaN</td>\n",
       "    </tr>\n",
       "    <tr>\n",
       "      <th>100</th>\n",
       "      <td>São Paulo</td>\n",
       "      <td>NaN</td>\n",
       "    </tr>\n",
       "    <tr>\n",
       "      <th>101</th>\n",
       "      <td>Rio Grande do Sul</td>\n",
       "      <td>direito</td>\n",
       "    </tr>\n",
       "    <tr>\n",
       "      <th>102</th>\n",
       "      <td>Rio de Janeiro</td>\n",
       "      <td>medicina</td>\n",
       "    </tr>\n",
       "  </tbody>\n",
       "</table>\n",
       "<p>103 rows × 2 columns</p>\n",
       "</div>"
      ],
      "text/plain": [
       "                estado      curso\n",
       "0    Rio Grande do Sul     letras\n",
       "1                  NaN        NaN\n",
       "2       Rio de Janeiro  geografia\n",
       "3                  NaN        NaN\n",
       "4                  NaN        NaN\n",
       "..                 ...        ...\n",
       "98              Paraná     letras\n",
       "99      Espírito Santo        NaN\n",
       "100          São Paulo        NaN\n",
       "101  Rio Grande do Sul    direito\n",
       "102     Rio de Janeiro   medicina\n",
       "\n",
       "[103 rows x 2 columns]"
      ]
     },
     "execution_count": 47,
     "metadata": {},
     "output_type": "execute_result"
    }
   ],
   "source": [
    "#Analisando somente colunas específicas usando a função loc\n",
    "df_loc = df_meuprofessor.loc[:, [\"estado\", \"curso\"]]\n",
    "df_loc"
   ]
  },
  {
   "cell_type": "code",
   "execution_count": 51,
   "metadata": {},
   "outputs": [
    {
     "data": {
      "text/html": [
       "<div>\n",
       "<style scoped>\n",
       "    .dataframe tbody tr th:only-of-type {\n",
       "        vertical-align: middle;\n",
       "    }\n",
       "\n",
       "    .dataframe tbody tr th {\n",
       "        vertical-align: top;\n",
       "    }\n",
       "\n",
       "    .dataframe thead th {\n",
       "        text-align: right;\n",
       "    }\n",
       "</style>\n",
       "<table border=\"1\" class=\"dataframe\">\n",
       "  <thead>\n",
       "    <tr style=\"text-align: right;\">\n",
       "      <th></th>\n",
       "      <th>iddapublicacao</th>\n",
       "      <th>tipodeassedio</th>\n",
       "      <th>instituicao</th>\n",
       "      <th>pais</th>\n",
       "      <th>estado</th>\n",
       "      <th>curso</th>\n",
       "      <th>linkspublicacao</th>\n",
       "    </tr>\n",
       "  </thead>\n",
       "  <tbody>\n",
       "    <tr>\n",
       "      <th>30</th>\n",
       "      <td>136</td>\n",
       "      <td>sexual</td>\n",
       "      <td>NaN</td>\n",
       "      <td>Brasil</td>\n",
       "      <td>NaN</td>\n",
       "      <td>medicina</td>\n",
       "      <td>https://web.facebook.com/permalink.php?story_f...</td>\n",
       "    </tr>\n",
       "    <tr>\n",
       "      <th>31</th>\n",
       "      <td>137</td>\n",
       "      <td>identidade</td>\n",
       "      <td>UFSCAR</td>\n",
       "      <td>Brasil</td>\n",
       "      <td>São Paulo</td>\n",
       "      <td>NaN</td>\n",
       "      <td>https://web.facebook.com/permalink.php?story_f...</td>\n",
       "    </tr>\n",
       "    <tr>\n",
       "      <th>32</th>\n",
       "      <td>138</td>\n",
       "      <td>sexual</td>\n",
       "      <td>UFF</td>\n",
       "      <td>Brasil</td>\n",
       "      <td>Rio de Janeiro</td>\n",
       "      <td>NaN</td>\n",
       "      <td>https://web.facebook.com/permalink.php?story_f...</td>\n",
       "    </tr>\n",
       "    <tr>\n",
       "      <th>33</th>\n",
       "      <td>148</td>\n",
       "      <td>sexual</td>\n",
       "      <td>USP</td>\n",
       "      <td>Brasil</td>\n",
       "      <td>São Paulo</td>\n",
       "      <td>artes cenicas</td>\n",
       "      <td>https://web.facebook.com/permalink.php?story_f...</td>\n",
       "    </tr>\n",
       "    <tr>\n",
       "      <th>34</th>\n",
       "      <td>156</td>\n",
       "      <td>sexista</td>\n",
       "      <td>UNI.CATÓLICA</td>\n",
       "      <td>Brasil</td>\n",
       "      <td>Brasília</td>\n",
       "      <td>direito</td>\n",
       "      <td>https://web.facebook.com/permalink.php?story_f...</td>\n",
       "    </tr>\n",
       "    <tr>\n",
       "      <th>35</th>\n",
       "      <td>163</td>\n",
       "      <td>sexual</td>\n",
       "      <td>NaN</td>\n",
       "      <td>Brasil</td>\n",
       "      <td>NaN</td>\n",
       "      <td>NaN</td>\n",
       "      <td>https://web.facebook.com/permalink.php?story_f...</td>\n",
       "    </tr>\n",
       "    <tr>\n",
       "      <th>36</th>\n",
       "      <td>167</td>\n",
       "      <td>sexual</td>\n",
       "      <td>NaN</td>\n",
       "      <td>Brasil</td>\n",
       "      <td>NaN</td>\n",
       "      <td>direito</td>\n",
       "      <td>https://web.facebook.com/permalink.php?story_f...</td>\n",
       "    </tr>\n",
       "    <tr>\n",
       "      <th>37</th>\n",
       "      <td>170</td>\n",
       "      <td>sexual</td>\n",
       "      <td>UFRJ</td>\n",
       "      <td>Brasil</td>\n",
       "      <td>Rio de Janeiro</td>\n",
       "      <td>letras</td>\n",
       "      <td>https://web.facebook.com/permalink.php?story_f...</td>\n",
       "    </tr>\n",
       "    <tr>\n",
       "      <th>38</th>\n",
       "      <td>172</td>\n",
       "      <td>sexual</td>\n",
       "      <td>UFRGS</td>\n",
       "      <td>Brasil</td>\n",
       "      <td>Rio Grande do Sul</td>\n",
       "      <td>pedagogia</td>\n",
       "      <td>https://web.facebook.com/permalink.php?story_f...</td>\n",
       "    </tr>\n",
       "    <tr>\n",
       "      <th>39</th>\n",
       "      <td>173</td>\n",
       "      <td>sexual</td>\n",
       "      <td>USP</td>\n",
       "      <td>Brasil</td>\n",
       "      <td>São Paulo</td>\n",
       "      <td>NaN</td>\n",
       "      <td>https://web.facebook.com/permalink.php?story_f...</td>\n",
       "    </tr>\n",
       "  </tbody>\n",
       "</table>\n",
       "</div>"
      ],
      "text/plain": [
       "    iddapublicacao tipodeassedio   instituicao   pais              estado  \\\n",
       "30             136        sexual           NaN  Brasil                NaN   \n",
       "31             137    identidade        UFSCAR  Brasil          São Paulo   \n",
       "32             138        sexual           UFF  Brasil     Rio de Janeiro   \n",
       "33             148        sexual           USP  Brasil          São Paulo   \n",
       "34             156       sexista  UNI.CATÓLICA  Brasil           Brasília   \n",
       "35             163        sexual           NaN  Brasil                NaN   \n",
       "36             167        sexual           NaN  Brasil                NaN   \n",
       "37             170        sexual          UFRJ  Brasil     Rio de Janeiro   \n",
       "38             172        sexual         UFRGS  Brasil  Rio Grande do Sul   \n",
       "39             173        sexual           USP  Brasil          São Paulo   \n",
       "\n",
       "            curso                                    linkspublicacao  \n",
       "30       medicina  https://web.facebook.com/permalink.php?story_f...  \n",
       "31            NaN  https://web.facebook.com/permalink.php?story_f...  \n",
       "32            NaN  https://web.facebook.com/permalink.php?story_f...  \n",
       "33  artes cenicas  https://web.facebook.com/permalink.php?story_f...  \n",
       "34        direito  https://web.facebook.com/permalink.php?story_f...  \n",
       "35            NaN  https://web.facebook.com/permalink.php?story_f...  \n",
       "36        direito  https://web.facebook.com/permalink.php?story_f...  \n",
       "37         letras  https://web.facebook.com/permalink.php?story_f...  \n",
       "38      pedagogia  https://web.facebook.com/permalink.php?story_f...  \n",
       "39            NaN  https://web.facebook.com/permalink.php?story_f...  "
      ]
     },
     "execution_count": 51,
     "metadata": {},
     "output_type": "execute_result"
    }
   ],
   "source": [
    "#Usando a função iloc para selecionar as linhas. No caso, chamei da linha 30 a 40\n",
    "df_meuprofessor.iloc[30:40, :]"
   ]
  },
  {
   "cell_type": "code",
   "execution_count": 63,
   "metadata": {},
   "outputs": [
    {
     "data": {
      "text/plain": [
       "<pandas.core.groupby.generic.DataFrameGroupBy object at 0x000001C59B4C21D0>"
      ]
     },
     "execution_count": 63,
     "metadata": {},
     "output_type": "execute_result"
    }
   ],
   "source": [
    "#Agrupamento/agregação: agrupando os tipos de assédio (sexual, sexista e de identidade)\n",
    "dado_agrupado = df_meuprofessor.groupby('tipodeassedio')\n",
    "dado_agrupado"
   ]
  },
  {
   "cell_type": "code",
   "execution_count": 64,
   "metadata": {},
   "outputs": [
    {
     "data": {
      "text/plain": [
       "tipodeassedio\n",
       "identidade     8\n",
       "sexista       12\n",
       "sexual        44\n",
       "Name: instituicao, dtype: int64"
      ]
     },
     "execution_count": 64,
     "metadata": {},
     "output_type": "execute_result"
    }
   ],
   "source": [
    "#Verificando a partir da coluna sobre instituição a contagem de cada tipo de assédio\n",
    "contagem_assedio = dado_agrupado['instituicao'].count()\n",
    "contagem_assedio"
   ]
  },
  {
   "cell_type": "markdown",
   "metadata": {},
   "source": [
    "# 6 - Integração com a biblioteca de visualização"
   ]
  },
  {
   "cell_type": "code",
   "execution_count": 67,
   "metadata": {},
   "outputs": [
    {
     "data": {
      "image/png": "[encoded data removed]",
      "text/plain": [
       "<Figure size 640x480 with 1 Axes>"
      ]
     },
     "metadata": {},
     "output_type": "display_data"
    }
   ],
   "source": [
    "#1° visualização \n",
    "contagem_assedio.plot(kind='bar');\n",
    "#Podemos observar que o tipo de assedio sexual é o mais citado no dataframe"
   ]
  },
  {
   "cell_type": "code",
   "execution_count": 88,
   "metadata": {},
   "outputs": [
    {
     "data": {
      "text/plain": [
       "curso\n",
       "arquitetura            1\n",
       "artes cenicas          1\n",
       "biologia               1\n",
       "calculo                3\n",
       "ciencias economicas    1\n",
       "comunicacao social     2\n",
       "direito                7\n",
       "ecologia               1\n",
       "economia               4\n",
       "estatistica            1\n",
       "fisica                 1\n",
       "geografia              1\n",
       "historia               3\n",
       "historia economica     1\n",
       "jornalismoa            1\n",
       "letras                 7\n",
       "matematica             1\n",
       "medicina               8\n",
       "musica                 2\n",
       "pedagogia              1\n",
       "psicologia             3\n",
       "servico social         1\n",
       "sociologia             1\n",
       "teatro                 1\n",
       "veterinaria            1\n",
       "Name: tipodeassedio, dtype: int64"
      ]
     },
     "execution_count": 88,
     "metadata": {},
     "output_type": "execute_result"
    }
   ],
   "source": [
    "dado_agrupado_estado = df_meuprofessor.groupby('estado')\n",
    "#dado_agrupado_estado\n",
    "\n",
    "contagem_curso = dado_agrupado['tipodeassedio'].count()\n",
    "contagem_curso"
   ]
  },
  {
   "cell_type": "code",
   "execution_count": 89,
   "metadata": {},
   "outputs": [
    {
     "data": {
      "image/png": "[encoded data removed]",
      "text/plain": [
       "<Figure size 640x480 with 1 Axes>"
      ]
     },
     "metadata": {},
     "output_type": "display_data"
    }
   ],
   "source": [
    "contagem_curso.plot(kind='bar');\n",
    "#Podemos observar que o curso de medicina está entre o mais citado nos relatos trazidos no dataframe"
   ]
  },
  {
   "cell_type": "code",
   "execution_count": 90,
   "metadata": {},
   "outputs": [
    {
     "data": {
      "text/plain": [
       "estado\n",
       "Amazonas               1\n",
       "Bahia                  4\n",
       "Brasília               2\n",
       "Espírito Santo         1\n",
       "Goiás                  1\n",
       "Mato Grosso do Sul     1\n",
       "Minas Gerais           4\n",
       "Paraná                10\n",
       "Pará                   4\n",
       "Pernambuco             1\n",
       "Piauí                  1\n",
       "Rio Grande do Sul     19\n",
       "Rio de Janeiro         9\n",
       "Santa Catarina         1\n",
       "Sao Paulo              1\n",
       "São Paulo             14\n",
       "Name: tipodeassedio, dtype: int64"
      ]
     },
     "execution_count": 90,
     "metadata": {},
     "output_type": "execute_result"
    }
   ],
   "source": [
    "dado_agrupado = df_meuprofessor.groupby('estado')\n",
    "#dado_agrupado_instituicao\n",
    "contagem_estado = dado_agrupado['tipodeassedio'].count()\n",
    "contagem_estado\n"
   ]
  },
  {
   "cell_type": "code",
   "execution_count": 91,
   "metadata": {},
   "outputs": [
    {
     "data": {
      "image/png": "[encoded data removed]",
      "text/plain": [
       "<Figure size 640x480 with 1 Axes>"
      ]
     },
     "metadata": {},
     "output_type": "display_data"
    }
   ],
   "source": [
    "contagem_estado.plot(kind='bar');\n",
    "#O estado que mais visível no dataframe é o Rio Grande do Sul"
   ]
  }
 ],
 "metadata": {
  "kernelspec": {
   "display_name": "Python 3",
   "language": "python",
   "name": "python3"
  },
  "language_info": {
   "codemirror_mode": {
    "name": "ipython",
    "version": 3
   },
   "file_extension": ".py",
   "mimetype": "text/x-python",
   "name": "python",
   "nbconvert_exporter": "python",
   "pygments_lexer": "ipython3",
   "version": "3.11.7"
  }
 },
 "nbformat": 4,
 "nbformat_minor": 2
}
